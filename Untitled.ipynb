{
 "cells": [
  {
   "cell_type": "code",
   "execution_count": 160,
   "metadata": {
    "collapsed": true
   },
   "outputs": [],
   "source": [
    "# -*- coding: utf-8 -*-\n",
    "from selenium import webdriver\n",
    "from selenium.webdriver.chrome.options import Options\n",
    "from selenium.webdriver.common.by import By\n",
    "from selenium.webdriver.support.ui import WebDriverWait\n",
    "from selenium.webdriver.support import expected_conditions as EC\n",
    "from bs4 import BeautifulSoup\n",
    "import pandas as pd\n",
    "import re\n",
    "import time"
   ]
  },
  {
   "cell_type": "code",
   "execution_count": 161,
   "metadata": {
    "collapsed": true
   },
   "outputs": [],
   "source": [
    "chrome_options = Options()\n",
    "chrome_options.add_argument(\"--headless\")\n",
    "chrome_options.add_argument(\"--window-size=1920x1080\")\n",
    "driver = webdriver.Chrome(chrome_options=chrome_options,\n",
    "                          executable_path='chromedriver.exe')\n",
    "\n",
    "fname = 'routes.txt'\n",
    "with open(fname, encoding='utf8') as f:\n",
    "    content = f.readlines()\n",
    "# you may also want to remove whitespace characters like `\\n` at the end of each line\n",
    "urls = [x.strip() for x in content if not x.startswith('#')]\n",
    "\n",
    "columns=['團型名稱', '團號', '價錢', '出國日期', '抵台日期',\n",
    "         '剩餘空位', '坐位總數', '出國航空', '出國時間', '出國機場',\n",
    "         '抵達時間', '抵達機場', '回國航空', '回國時間', '回國機場',\n",
    "         '抵台時間', '抵台機場', '網址']\n",
    "df = pd.DataFrame(data=None, columns=columns)"
   ]
  },
  {
   "cell_type": "code",
   "execution_count": 162,
   "metadata": {},
   "outputs": [
    {
     "name": "stdout",
     "output_type": "stream",
     "text": [
      "1/29\n",
      "2/29\n",
      "3/29\n",
      "4/29\n",
      "5/29\n",
      "6/29\n",
      "7/29\n",
      "8/29\n",
      "9/29\n",
      "10/29\n",
      "11/29\n",
      "12/29\n",
      "13/29\n",
      "14/29\n",
      "15/29\n",
      "16/29\n",
      "17/29\n",
      "18/29\n",
      "19/29\n",
      "20/29\n",
      "21/29\n",
      "22/29\n",
      "23/29\n",
      "24/29\n",
      "25/29\n",
      "26/29\n",
      "27/29\n",
      "28/29\n",
      "29/29\n"
     ]
    }
   ],
   "source": [
    "for index, url in enumerate(urls):\n",
    "    print(f\"{index+1}/{len(urls)}\")\n",
    "    driver.get(url)\n",
    "    time.sleep(5)\n",
    "    elem = driver.find_element_by_class_name(\"tourTopInfo\")\n",
    "    source_code = elem.get_attribute('innerHTML')\n",
    "    soup = BeautifulSoup(source_code, 'html.parser')\n",
    "\n",
    "    # 團型名稱\n",
    "    JSON = re.compile('ProductName: \".*?\"', re.DOTALL)\n",
    "    trip_name = JSON.search(source_code).group(0).split()[1]\n",
    "\n",
    "    # 團號\n",
    "    trip_number = soup.find_all('th', {'class':'tptitle'})[0].span.text\n",
    "\n",
    "    # 價錢\n",
    "    price = soup.find('span', {'class':'price'}).text\n",
    "\n",
    "    tpinfos = soup.find_all('tr', {'class':'tpinfo'})\n",
    "\n",
    "    # 出發日期\n",
    "    start_date = tpinfos[0].find_all('td')[1].text\n",
    "\n",
    "    # 抵達日期\n",
    "    back_date = tpinfos[1].find_all('td')[1].text\n",
    "\n",
    "    # 團位數量\n",
    "    empty_seats = tpinfos[2].find_all('span')[0].text\n",
    "    total_seats = tpinfos[2].find_all('span')[1].text\n",
    "\n",
    "    # 出發航空\n",
    "    start_air = tpinfos[3].find('span').text\n",
    "\n",
    "    # 出發時間, 出發機場, 抵達時間, 抵達機場\n",
    "    goto_start_time, goto_start_airport, _, goto_arrival_airport, goto_arrival_time = tpinfos[4].find_all('td')[1].text.split()\n",
    "\n",
    "    # 回國航空\n",
    "    start_air = tpinfos[5].find('span').text\n",
    "\n",
    "    # 出發時間, 出發機場, 抵達時間, 抵達機場\n",
    "    back_start_time, back_start_airport, _, back_arrival_airport, back_arrival_time = tpinfos[6].find_all('td')[1].text.split()\n",
    "\n",
    "    row = [trip_name, trip_number, price, start_date, back_date,\n",
    "          empty_seats, total_seats, start_air, goto_start_time,\n",
    "          goto_start_airport, goto_arrival_time, goto_arrival_airport,\n",
    "          start_air, back_start_time, back_start_airport, back_arrival_time,\n",
    "          back_arrival_airport, url]\n",
    "    row_data=pd.Series(row,columns)\n",
    "    df = df.append(row_data, ignore_index=True)\n",
    "driver.close()\n",
    "driver.quit()"
   ]
  },
  {
   "cell_type": "code",
   "execution_count": 154,
   "metadata": {},
   "outputs": [],
   "source": [
    "driver.close()\n",
    "driver.quit()"
   ]
  },
  {
   "cell_type": "code",
   "execution_count": 163,
   "metadata": {},
   "outputs": [],
   "source": [
    "df.to_csv('Osaka.csv', index=False)"
   ]
  }
 ],
 "metadata": {
  "kernelspec": {
   "display_name": "Python 3",
   "language": "python",
   "name": "python3"
  },
  "language_info": {
   "codemirror_mode": {
    "name": "ipython",
    "version": 3
   },
   "file_extension": ".py",
   "mimetype": "text/x-python",
   "name": "python",
   "nbconvert_exporter": "python",
   "pygments_lexer": "ipython3",
   "version": "3.6.1"
  }
 },
 "nbformat": 4,
 "nbformat_minor": 2
}
