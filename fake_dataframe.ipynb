{
 "cells": [
  {
   "cell_type": "code",
   "execution_count": 2,
   "metadata": {},
   "outputs": [
    {
     "name": "stdout",
     "output_type": "stream",
     "text": [
      "                                  Conrad             address  \\\n",
      "0         Intuitive dedicated capability  93090 連江縣大同路5段5號之3   \n",
      "1  Streamlined disintermediate hierarchy   95613 北港縣新生巷54號之6   \n",
      "2           Persistent composite toolset   43606 鳳山市文昌路28號之8   \n",
      "3        Robust transitional utilization  49500 斗六市學府巷455號8樓   \n",
      "4          Persistent actuating forecast  15434 關山市新生路972號之9   \n",
      "\n",
      "                                bs city           date_time  \\\n",
      "0       deploy magnetic e-services  宜蘭縣 1985-02-12 00:21:47   \n",
      "1  optimize holistic relationships  馬公縣 1985-08-21 14:13:28   \n",
      "2       grow ubiquitous e-services  永康縣 1977-11-01 08:48:39   \n",
      "3   exploit customized convergence  北港縣 1998-03-01 06:25:35   \n",
      "4     scale robust infrastructures  牡丹縣 1976-10-10 12:21:39   \n",
      "\n",
      "               email  name                                      paragraph  \\\n",
      "0  yangcao@gmail.com   湯淑貞  以及她的希望就是這是已經參加有關.特別安全不過看到系統環境注冊.出現計劃管理作為客戶實現.   \n",
      "1    ukong@xiang.com   錢怡君                   自己結果起來學校一種汽車資料.完全隻要文化如何關系來源.   \n",
      "2    xia94@gmail.com   繆婷婷        開發規定登錄計劃世界.國家詳細功能圖片比較狀態.過程喜歡注冊出現關於經驗然后.   \n",
      "3     yan21@cheng.tw   祁佩珊                                    網站這麼時間工程可是.   \n",
      "4     qxie@gmail.com  上官雅芳            更多社區加入其他以上音樂對於.完全比較或者專業產品.所有那個瀏覽以及.   \n",
      "\n",
      "   randomdata  \n",
      "0        1379  \n",
      "1        1134  \n",
      "2        1558  \n",
      "3        1327  \n",
      "4        1698  \n"
     ]
    }
   ],
   "source": [
    "from faker import Faker\n",
    "import pandas as pd\n",
    "import random\n",
    "fake = Faker('zh_TW')  # 'en_US', 'zh_TW'\n",
    "def create_rows(num=1):\n",
    "    output = [{\"name\":fake.name(),\n",
    "               \"address\":fake.address(),\n",
    "               \"name\":fake.name(),\n",
    "               \"email\":fake.email(),\n",
    "               \"bs\":fake.bs(),\n",
    "               \"address\":fake.address(),\n",
    "               \"city\":fake.city(),\n",
    "               # \"state\":fake.state(),\n",
    "               \"date_time\":fake.date_time(),\n",
    "               \"paragraph\":fake.paragraph(),\n",
    "               \"Conrad\":fake.catch_phrase(),\n",
    "               \"randomdata\":random.randint(1000,2000)} for x in range(num)]\n",
    "    return output\n",
    "\n",
    "df = pd.DataFrame(create_rows(5000))\n",
    "\n",
    "print(df.head())"
   ]
  }
 ],
 "metadata": {
  "kernelspec": {
   "display_name": "Python 3",
   "language": "python",
   "name": "python3"
  },
  "language_info": {
   "codemirror_mode": {
    "name": "ipython",
    "version": 3
   },
   "file_extension": ".py",
   "mimetype": "text/x-python",
   "name": "python",
   "nbconvert_exporter": "python",
   "pygments_lexer": "ipython3",
   "version": "3.6.3"
  }
 },
 "nbformat": 4,
 "nbformat_minor": 2
}
